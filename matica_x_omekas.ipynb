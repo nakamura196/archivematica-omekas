{
  "nbformat": 4,
  "nbformat_minor": 0,
  "metadata": {
    "colab": {
      "provenance": [],
      "collapsed_sections": [],
      "include_colab_link": true
    },
    "kernelspec": {
      "name": "python3",
      "display_name": "Python 3"
    },
    "language_info": {
      "name": "python"
    }
  },
  "cells": [
    {
      "cell_type": "markdown",
      "metadata": {
        "id": "view-in-github",
        "colab_type": "text"
      },
      "source": [
        "<a href=\"https://colab.research.google.com/github/nakamura196/archivematica-omekas/blob/main/matica_x_omekas.ipynb\" target=\"_parent\"><img src=\"https://colab.research.google.com/assets/colab-badge.svg\" alt=\"Open In Colab\"/></a>"
      ]
    },
    {
      "cell_type": "markdown",
      "source": [
        "ArchivematicaのDIPをOmeka Sにアップロードするプログラム"
      ],
      "metadata": {
        "id": "V30jJvhiJVhs"
      }
    },
    {
      "cell_type": "markdown",
      "source": [
        "# 初期設定"
      ],
      "metadata": {
        "id": "1833HiaOJT71"
      }
    },
    {
      "cell_type": "markdown",
      "source": [
        "## ソースコードのダウンロード"
      ],
      "metadata": {
        "id": "MdxVe5WIHz4W"
      }
    },
    {
      "cell_type": "code",
      "execution_count": 1,
      "metadata": {
        "colab": {
          "base_uri": "https://localhost:8080/"
        },
        "id": "t0gTYRyP-Qbi",
        "outputId": "18b27b47-db0c-40cd-fc99-0c5eca0ce5f6"
      },
      "outputs": [
        {
          "output_type": "stream",
          "name": "stdout",
          "text": [
            "/content\n",
            "Cloning into 'archivematica-omekas'...\n",
            "remote: Enumerating objects: 43, done.\u001b[K\n",
            "remote: Counting objects: 100% (43/43), done.\u001b[K\n",
            "remote: Compressing objects: 100% (30/30), done.\u001b[K\n",
            "remote: Total 43 (delta 19), reused 30 (delta 9), pack-reused 0\u001b[K\n",
            "Unpacking objects: 100% (43/43), done.\n",
            "/content/archivematica-omekas\n"
          ]
        }
      ],
      "source": [
        "%cd /content\n",
        "!git clone https://github.com/nakamura196/archivematica-omekas.git\n",
        "%cd /content/archivematica-omekas"
      ]
    },
    {
      "cell_type": "markdown",
      "source": [
        "## omeka_s_toolsのインストール"
      ],
      "metadata": {
        "id": "k64IKRmeI9jw"
      }
    },
    {
      "cell_type": "code",
      "source": [
        "!git clone https://github.com/wragge/omeka_s_tools.git\n",
        "!mv /content/archivematica-omekas/omeka_s_tools/omeka_s_tools/api.py /content/archivematica-omekas/omeka_s_tools/api.py\n",
        "!pip install requests_cache\n"
      ],
      "metadata": {
        "colab": {
          "base_uri": "https://localhost:8080/"
        },
        "id": "X_vjGvKgIiBg",
        "outputId": "dc6ac10b-3f8d-4cd6-d86a-f80418713da1"
      },
      "execution_count": 2,
      "outputs": [
        {
          "output_type": "stream",
          "name": "stdout",
          "text": [
            "Cloning into 'omeka_s_tools'...\n",
            "remote: Enumerating objects: 148, done.\u001b[K\n",
            "remote: Counting objects: 100% (148/148), done.\u001b[K\n",
            "remote: Compressing objects: 100% (99/99), done.\u001b[K\n",
            "remote: Total 148 (delta 69), reused 104 (delta 29), pack-reused 0\u001b[K\n",
            "Receiving objects: 100% (148/148), 383.67 KiB | 3.69 MiB/s, done.\n",
            "Resolving deltas: 100% (69/69), done.\n",
            "Looking in indexes: https://pypi.org/simple, https://us-python.pkg.dev/colab-wheels/public/simple/\n",
            "Collecting requests_cache\n",
            "  Downloading requests_cache-0.9.6-py3-none-any.whl (47 kB)\n",
            "\u001b[K     |████████████████████████████████| 47 kB 3.6 MB/s \n",
            "\u001b[?25hRequirement already satisfied: requests>=2.22 in /usr/local/lib/python3.7/dist-packages (from requests_cache) (2.23.0)\n",
            "Collecting urllib3>=1.25.5\n",
            "  Downloading urllib3-1.26.12-py2.py3-none-any.whl (140 kB)\n",
            "\u001b[K     |████████████████████████████████| 140 kB 29.3 MB/s \n",
            "\u001b[?25hRequirement already satisfied: attrs>=21.2 in /usr/local/lib/python3.7/dist-packages (from requests_cache) (22.1.0)\n",
            "Collecting cattrs>=1.8\n",
            "  Downloading cattrs-22.1.0-py3-none-any.whl (33 kB)\n",
            "Collecting url-normalize>=1.4\n",
            "  Downloading url_normalize-1.4.3-py2.py3-none-any.whl (6.8 kB)\n",
            "Requirement already satisfied: appdirs>=1.4.4 in /usr/local/lib/python3.7/dist-packages (from requests_cache) (1.4.4)\n",
            "Collecting exceptiongroup\n",
            "  Downloading exceptiongroup-1.0.0rc9-py3-none-any.whl (12 kB)\n",
            "Requirement already satisfied: typing_extensions in /usr/local/lib/python3.7/dist-packages (from cattrs>=1.8->requests_cache) (4.1.1)\n",
            "Collecting urllib3>=1.25.5\n",
            "  Downloading urllib3-1.25.11-py2.py3-none-any.whl (127 kB)\n",
            "\u001b[K     |████████████████████████████████| 127 kB 67.1 MB/s \n",
            "\u001b[?25hRequirement already satisfied: certifi>=2017.4.17 in /usr/local/lib/python3.7/dist-packages (from requests>=2.22->requests_cache) (2022.6.15)\n",
            "Requirement already satisfied: chardet<4,>=3.0.2 in /usr/local/lib/python3.7/dist-packages (from requests>=2.22->requests_cache) (3.0.4)\n",
            "Requirement already satisfied: idna<3,>=2.5 in /usr/local/lib/python3.7/dist-packages (from requests>=2.22->requests_cache) (2.10)\n",
            "Requirement already satisfied: six in /usr/local/lib/python3.7/dist-packages (from url-normalize>=1.4->requests_cache) (1.15.0)\n",
            "Installing collected packages: urllib3, exceptiongroup, url-normalize, cattrs, requests-cache\n",
            "  Attempting uninstall: urllib3\n",
            "    Found existing installation: urllib3 1.24.3\n",
            "    Uninstalling urllib3-1.24.3:\n",
            "      Successfully uninstalled urllib3-1.24.3\n",
            "Successfully installed cattrs-22.1.0 exceptiongroup-1.0.0rc9 requests-cache-0.9.6 url-normalize-1.4.3 urllib3-1.25.11\n"
          ]
        }
      ]
    },
    {
      "cell_type": "markdown",
      "source": [
        "# 設定"
      ],
      "metadata": {
        "id": "X-4UpEOuJIBS"
      }
    },
    {
      "cell_type": "markdown",
      "source": [
        "## Archivematicaの設定"
      ],
      "metadata": {
        "id": "278K5TcvJJXw"
      }
    },
    {
      "cell_type": "code",
      "source": [
        "dip_zip_file_path = \"/content/archivematica-omekas/data/sample/ex02-1-TIFF-007c28cc-4671-4d5d-be2a-facace4c7b84.zip\"\n",
        "mapping_json_file_path=\"/content/archivematica-omekas/data/sample/mapping.json\""
      ],
      "metadata": {
        "id": "sNkT_XG9JMLa"
      },
      "execution_count": 3,
      "outputs": []
    },
    {
      "cell_type": "markdown",
      "source": [
        "## Omekaの設定"
      ],
      "metadata": {
        "id": "Yl8b8KkkJFKr"
      }
    },
    {
      "cell_type": "code",
      "source": [
        "API_URL=\"https://omekas.aws.ldas.jp/sandbox/api\"\n",
        "KEY_IDENTITY=\"uTj2yMTQkBRa9AZa4aLa5kmw1ZMqIlua\"\n",
        "KEY_CREDENTIAL=\"CVcScVpRWA5ACtqquiLBsz6snyzunMHn\""
      ],
      "metadata": {
        "id": "32GVKSiH-VaD"
      },
      "execution_count": 8,
      "outputs": []
    },
    {
      "cell_type": "markdown",
      "source": [
        "# 実行"
      ],
      "metadata": {
        "id": "GpbVq_8SJQx5"
      }
    },
    {
      "cell_type": "markdown",
      "source": [
        "## dipをomeka sの入力フォーマットに変換する"
      ],
      "metadata": {
        "id": "7hdCLuiCJRut"
      }
    },
    {
      "cell_type": "code",
      "source": [
        "from pathlib import Path\n",
        "task_id = Path(dip_zip_file_path).stem\n",
        "!python convert.py $dip_zip_file_path $mapping_json_file_path -tid $task_id"
      ],
      "metadata": {
        "id": "3RstF2LM-m86"
      },
      "execution_count": 6,
      "outputs": []
    },
    {
      "cell_type": "markdown",
      "source": [
        "## Omeka Sへデータをアップロードする"
      ],
      "metadata": {
        "id": "UjgQin81-q3f"
      }
    },
    {
      "cell_type": "code",
      "source": [
        "from importlib import reload\n",
        "import task\n",
        "reload(task)\n",
        "import task\n",
        "\n",
        "###\n",
        "\n",
        "from task import Task\n",
        "\n",
        "task = Task(API_URL, KEY_IDENTITY, KEY_CREDENTIAL)\n",
        "task.upload(f\"tmp/{task_id}/metadata.csv\", f\"tmp/{task_id}/media.csv\", is_public=False)"
      ],
      "metadata": {
        "colab": {
          "base_uri": "https://localhost:8080/"
        },
        "id": "IbC7ku3j-pOR",
        "outputId": "5ccdb2ce-97c1-4a72-8ee0-747b073f8332"
      },
      "execution_count": 9,
      "outputs": [
        {
          "output_type": "stream",
          "name": "stdout",
          "text": [
            "アイテムの登録\n"
          ]
        },
        {
          "output_type": "stream",
          "name": "stderr",
          "text": [
            "100%|██████████| 4/4 [00:14<00:00,  3.64s/it]\n"
          ]
        },
        {
          "output_type": "stream",
          "name": "stdout",
          "text": [
            "\n",
            "IDの取得\n",
            "\n"
          ]
        },
        {
          "output_type": "stream",
          "name": "stderr",
          "text": [
            "100%|██████████| 4/4 [00:01<00:00,  3.92it/s]\n"
          ]
        },
        {
          "output_type": "stream",
          "name": "stdout",
          "text": [
            "\n",
            "メディアの登録\n",
            "\n"
          ]
        },
        {
          "output_type": "stream",
          "name": "stderr",
          "text": [
            "100%|██████████| 4/4 [00:25<00:00,  6.38s/it]\n"
          ]
        }
      ]
    },
    {
      "cell_type": "markdown",
      "source": [
        "以下のURLから、アイテムが登録されていることをご確認ください。\n",
        "\n",
        "https://omekas.aws.ldas.jp/sandbox/s/demo/item"
      ],
      "metadata": {
        "id": "x-N_8socKeqw"
      }
    }
  ]
}