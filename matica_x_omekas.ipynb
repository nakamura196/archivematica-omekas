{
  "nbformat": 4,
  "nbformat_minor": 0,
  "metadata": {
    "colab": {
      "provenance": [],
      "collapsed_sections": [],
      "toc_visible": true,
      "authorship_tag": "ABX9TyPR6x41Dmr9+eBnFyIgM87P",
      "include_colab_link": true
    },
    "kernelspec": {
      "name": "python3",
      "display_name": "Python 3"
    },
    "language_info": {
      "name": "python"
    }
  },
  "cells": [
    {
      "cell_type": "markdown",
      "metadata": {
        "id": "view-in-github",
        "colab_type": "text"
      },
      "source": [
        "<a href=\"https://colab.research.google.com/github/nakamura196/archivematica-omekas/blob/main/matica_x_omekas.ipynb\" target=\"_parent\"><img src=\"https://colab.research.google.com/assets/colab-badge.svg\" alt=\"Open In Colab\"/></a>"
      ]
    },
    {
      "cell_type": "markdown",
      "source": [
        "ArchivematicaのDIPをOmeka Sにアップロードするプログラム"
      ],
      "metadata": {
        "id": "V30jJvhiJVhs"
      }
    },
    {
      "cell_type": "markdown",
      "source": [
        "# 初期設定"
      ],
      "metadata": {
        "id": "1833HiaOJT71"
      }
    },
    {
      "cell_type": "markdown",
      "source": [
        "## ソースコードのダウンロード"
      ],
      "metadata": {
        "id": "MdxVe5WIHz4W"
      }
    },
    {
      "cell_type": "code",
      "execution_count": null,
      "metadata": {
        "colab": {
          "base_uri": "https://localhost:8080/"
        },
        "id": "t0gTYRyP-Qbi",
        "outputId": "58f6acb8-636b-4874-ada4-4366e9f15b61"
      },
      "outputs": [
        {
          "output_type": "stream",
          "name": "stdout",
          "text": [
            "/content\n",
            "Cloning into 'archivematica-omekas'...\n",
            "remote: Enumerating objects: 12, done.\u001b[K\n",
            "remote: Counting objects: 100% (12/12), done.\u001b[K\n",
            "remote: Compressing objects: 100% (10/10), done.\u001b[K\n",
            "remote: Total 12 (delta 0), reused 12 (delta 0), pack-reused 0\u001b[K\n",
            "Unpacking objects: 100% (12/12), done.\n",
            "/content/archivematica-omekas\n"
          ]
        }
      ],
      "source": [
        "%cd /content\n",
        "!git clone https://github.com/nakamura196/archivematica-omekas.git\n",
        "%cd /content/archivematica-omekas"
      ]
    },
    {
      "cell_type": "markdown",
      "source": [
        "## omeka_s_toolsのインストール"
      ],
      "metadata": {
        "id": "k64IKRmeI9jw"
      }
    },
    {
      "cell_type": "code",
      "source": [
        "!git clone https://github.com/wragge/omeka_s_tools.git\n",
        "!mv /content/archivematica-omekas/omeka_s_tools/omeka_s_tools/api.py /content/archivematica-omekas/omeka_s_tools/api.py\n",
        "!pip install requests_cache\n"
      ],
      "metadata": {
        "colab": {
          "base_uri": "https://localhost:8080/"
        },
        "id": "X_vjGvKgIiBg",
        "outputId": "18a21378-b3cb-4c1c-930c-f3a179a2c73a"
      },
      "execution_count": null,
      "outputs": [
        {
          "output_type": "stream",
          "name": "stdout",
          "text": [
            "Cloning into 'omeka_s_tools'...\n",
            "remote: Enumerating objects: 148, done.\u001b[K\n",
            "remote: Counting objects: 100% (148/148), done.\u001b[K\n",
            "remote: Compressing objects: 100% (99/99), done.\u001b[K\n",
            "remote: Total 148 (delta 69), reused 104 (delta 29), pack-reused 0\u001b[K\n",
            "Receiving objects: 100% (148/148), 383.67 KiB | 3.28 MiB/s, done.\n",
            "Resolving deltas: 100% (69/69), done.\n"
          ]
        }
      ]
    },
    {
      "cell_type": "markdown",
      "source": [
        "# 設定"
      ],
      "metadata": {
        "id": "X-4UpEOuJIBS"
      }
    },
    {
      "cell_type": "markdown",
      "source": [
        "## Archivematicaの設定"
      ],
      "metadata": {
        "id": "278K5TcvJJXw"
      }
    },
    {
      "cell_type": "code",
      "source": [
        "dip_zip_file_path = \"/content/archivematica-omekas/data/sample/ex02-1-TIFF-007c28cc-4671-4d5d-be2a-facace4c7b84.zip\"\n",
        "mapping_json_file_path=\"/content/archivematica-omekas/data/sample/mapping.json\""
      ],
      "metadata": {
        "id": "sNkT_XG9JMLa"
      },
      "execution_count": null,
      "outputs": []
    },
    {
      "cell_type": "markdown",
      "source": [
        "## Omekaの設定"
      ],
      "metadata": {
        "id": "Yl8b8KkkJFKr"
      }
    },
    {
      "cell_type": "code",
      "source": [
        "API_URL=\"https://omekas.aws.ldas.jp/matica/api\"\n",
        "KEY_IDENTITY=\"s9epau0WWiR0NyK2mz0brlnU0ZbHChKk\"\n",
        "KEY_CREDENTIAL=\"Z29gY4ymZcyAALFwhBqXBRG3RgTFdQO1\""
      ],
      "metadata": {
        "id": "32GVKSiH-VaD"
      },
      "execution_count": null,
      "outputs": []
    },
    {
      "cell_type": "markdown",
      "source": [
        "# 実行"
      ],
      "metadata": {
        "id": "GpbVq_8SJQx5"
      }
    },
    {
      "cell_type": "markdown",
      "source": [
        "## dipをomeka sの入力フォーマットに変換する"
      ],
      "metadata": {
        "id": "7hdCLuiCJRut"
      }
    },
    {
      "cell_type": "code",
      "source": [
        "!python convert.py $dip_zip_file_path $mapping_json_file_path"
      ],
      "metadata": {
        "id": "3RstF2LM-m86"
      },
      "execution_count": null,
      "outputs": []
    },
    {
      "cell_type": "markdown",
      "source": [
        "## Omeka Sへデータをアップロードする"
      ],
      "metadata": {
        "id": "UjgQin81-q3f"
      }
    },
    {
      "cell_type": "code",
      "source": [
        "from importlib import reload\n",
        "import task\n",
        "reload(task)\n",
        "import task\n",
        "\n",
        "###\n",
        "\n",
        "from task import Task\n",
        "\n",
        "task = Task(API_URL, KEY_IDENTITY, KEY_CREDENTIAL)\n",
        "task.upload(\"tmp/bcd/metadata.csv\", \"tmp/bcd/media.csv\")"
      ],
      "metadata": {
        "colab": {
          "base_uri": "https://localhost:8080/"
        },
        "id": "IbC7ku3j-pOR",
        "outputId": "e61576be-e55f-4e84-b8be-038c9950d033"
      },
      "execution_count": null,
      "outputs": [
        {
          "output_type": "stream",
          "name": "stdout",
          "text": [
            "アイテムの登録\n"
          ]
        },
        {
          "output_type": "stream",
          "name": "stderr",
          "text": [
            "100%|██████████| 4/4 [00:07<00:00,  1.83s/it]\n"
          ]
        },
        {
          "output_type": "stream",
          "name": "stdout",
          "text": [
            "\n",
            "IDの取得\n",
            "\n"
          ]
        },
        {
          "output_type": "stream",
          "name": "stderr",
          "text": [
            "100%|██████████| 4/4 [00:01<00:00,  3.10it/s]\n"
          ]
        },
        {
          "output_type": "stream",
          "name": "stdout",
          "text": [
            "\n",
            "画像の登録\n",
            "\n"
          ]
        },
        {
          "output_type": "stream",
          "name": "stderr",
          "text": [
            "100%|██████████| 4/4 [00:18<00:00,  4.65s/it]\n"
          ]
        }
      ]
    },
    {
      "cell_type": "markdown",
      "source": [
        "以下のURLから、アイテムが登録されていることをご確認ください。\n",
        "\n",
        "https://omekas.aws.ldas.jp/matica/s/archivematica-x-omeka/item"
      ],
      "metadata": {
        "id": "x-N_8socKeqw"
      }
    }
  ]
}