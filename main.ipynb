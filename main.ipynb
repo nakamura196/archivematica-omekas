{
 "cells": [
  {
   "cell_type": "code",
   "execution_count": 54,
   "metadata": {},
   "outputs": [],
   "source": [
    "!pip install -q -r requirements.txt"
   ]
  },
  {
   "cell_type": "markdown",
   "metadata": {},
   "source": [
    "## 設定"
   ]
  },
  {
   "cell_type": "code",
   "execution_count": 55,
   "metadata": {},
   "outputs": [],
   "source": [
    "use_env = True"
   ]
  },
  {
   "cell_type": "code",
   "execution_count": 56,
   "metadata": {},
   "outputs": [],
   "source": [
    "if use_env:\n",
    "    ######################\n",
    "    from dotenv import load_dotenv\n",
    "    load_dotenv()\n",
    "    # 環境変数を参照\n",
    "    import os\n",
    "    API_URL = os.getenv('API_URL')\n",
    "    KEY_IDENTITY=os.getenv('KEY_IDENTITY')\n",
    "    KEY_CREDENTIAL=os.getenv('KEY_CREDENTIAL')\n",
    "    ######################\n",
    "else:\n",
    "    API_URL=\"https://omekas.aws.ldas.jp/sandbox/api\"\n",
    "    KEY_IDENTITY=\"uTj2yMTQkBRa9AZa4aLa5kmw1ZMqIlua\"\n",
    "    KEY_CREDENTIAL=\"CVcScVpRWA5ACtqquiLBsz6snyzunMHn\""
   ]
  },
  {
   "cell_type": "code",
   "execution_count": 60,
   "metadata": {},
   "outputs": [],
   "source": [
    "dip_zip_file_path = \"/Users/nakamura/git/kim/archivematica-omekas/data/sample/test-txt-item-re-352a0540-c556-430b-ab12-c9a58c8aa264-20220918T145105Z-001.zip\"\n",
    "mapping_json_file_path=\"data/sample/mapping.json\"\n",
    "task_id = \"abc\""
   ]
  },
  {
   "cell_type": "code",
   "execution_count": 75,
   "metadata": {},
   "outputs": [],
   "source": [
    "dip_zip_file_path = \"/Users/nakamura/git/kim/archivematica-omekas/data/sample/ex02-1-TIFF-007c28cc-4671-4d5d-be2a-facace4c7b84.zip\"\n",
    "task_id = \"def\""
   ]
  },
  {
   "cell_type": "markdown",
   "metadata": {},
   "source": [
    "## dipをomeka sの入力フォーマットに変換する"
   ]
  },
  {
   "cell_type": "code",
   "execution_count": 76,
   "metadata": {},
   "outputs": [],
   "source": [
    "!python convert.py $dip_zip_file_path $mapping_json_file_path -tid $task_id"
   ]
  },
  {
   "cell_type": "markdown",
   "metadata": {},
   "source": [
    "## Omeka Sへデータをアップロードする"
   ]
  },
  {
   "cell_type": "code",
   "execution_count": 77,
   "metadata": {},
   "outputs": [
    {
     "name": "stdout",
     "output_type": "stream",
     "text": [
      "アイテムの登録\n"
     ]
    },
    {
     "name": "stderr",
     "output_type": "stream",
     "text": [
      "100%|██████████| 4/4 [00:15<00:00,  3.97s/it]\n"
     ]
    },
    {
     "name": "stdout",
     "output_type": "stream",
     "text": [
      "\n",
      "IDの取得\n",
      "\n"
     ]
    },
    {
     "name": "stderr",
     "output_type": "stream",
     "text": [
      "100%|██████████| 4/4 [00:05<00:00,  1.26s/it]\n"
     ]
    },
    {
     "name": "stdout",
     "output_type": "stream",
     "text": [
      "\n",
      "メディアの登録\n",
      "\n"
     ]
    },
    {
     "name": "stderr",
     "output_type": "stream",
     "text": [
      "100%|██████████| 4/4 [00:28<00:00,  7.13s/it]\n"
     ]
    }
   ],
   "source": [
    "from importlib import reload\n",
    "import task\n",
    "reload(task)\n",
    "import task\n",
    "\n",
    "###\n",
    "\n",
    "from task import Task\n",
    "\n",
    "task = Task(API_URL, KEY_IDENTITY, KEY_CREDENTIAL)\n",
    "task.upload(f\"tmp/{task_id}/metadata.csv\", f\"tmp/{task_id}/media.csv\", is_public=False)"
   ]
  }
 ],
 "metadata": {
  "kernelspec": {
   "display_name": "Python 3.9.12 ('venv': venv)",
   "language": "python",
   "name": "python3"
  },
  "language_info": {
   "codemirror_mode": {
    "name": "ipython",
    "version": 3
   },
   "file_extension": ".py",
   "mimetype": "text/x-python",
   "name": "python",
   "nbconvert_exporter": "python",
   "pygments_lexer": "ipython3",
   "version": "3.9.12"
  },
  "orig_nbformat": 4,
  "vscode": {
   "interpreter": {
    "hash": "298425943b76c628d5242528253edf20c1c18f2afa1e1858607f32c8572be1b1"
   }
  }
 },
 "nbformat": 4,
 "nbformat_minor": 2
}
