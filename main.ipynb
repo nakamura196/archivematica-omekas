{
 "cells": [
  {
   "cell_type": "markdown",
   "metadata": {},
   "source": [
    "<a href=\"https://colab.research.google.com/github/nakamura196/archivematica-omekas/blob/main/main.ipynb\" target=\"_parent\"><img src=\"https://colab.research.google.com/assets/colab-badge.svg\" alt=\"Open In Colab\"/></a>"
   ]
  },
  {
   "cell_type": "code",
   "execution_count": 26,
   "metadata": {},
   "outputs": [],
   "source": [
    "!pip install -q -r requirements.txt"
   ]
  },
  {
   "cell_type": "markdown",
   "metadata": {},
   "source": [
    "## 設定"
   ]
  },
  {
   "cell_type": "code",
   "execution_count": 27,
   "metadata": {},
   "outputs": [],
   "source": [
    "API_URL=\"https://omekas.aws.ldas.jp/matica/api\"\n",
    "KEY_IDENTITY=\"s9epau0WWiR0NyK2mz0brlnU0ZbHChKk\"\n",
    "KEY_CREDENTIAL=\"Z29gY4ymZcyAALFwhBqXBRG3RgTFdQO1\"\n",
    "dip_zip_file_path = \"data/sample/ex02-1-TIFF-007c28cc-4671-4d5d-be2a-facace4c7b84.zip\"\n",
    "mapping_json_file_path=\"data/sample/mapping.json\""
   ]
  },
  {
   "cell_type": "markdown",
   "metadata": {},
   "source": [
    "## dipをomeka sの入力フォーマットに変換する"
   ]
  },
  {
   "cell_type": "code",
   "execution_count": 20,
   "metadata": {},
   "outputs": [],
   "source": [
    "!python convert.py $dip_zip_file_path $mapping_json_file_path"
   ]
  },
  {
   "cell_type": "markdown",
   "metadata": {},
   "source": [
    "## Omeka Sへデータをアップロードする"
   ]
  },
  {
   "cell_type": "code",
   "execution_count": 28,
   "metadata": {},
   "outputs": [
    {
     "name": "stdout",
     "output_type": "stream",
     "text": [
      "アイテムの登録\n"
     ]
    },
    {
     "name": "stderr",
     "output_type": "stream",
     "text": [
      "100%|██████████| 4/4 [00:14<00:00,  3.66s/it]\n"
     ]
    },
    {
     "name": "stdout",
     "output_type": "stream",
     "text": [
      "\n",
      "IDの取得\n",
      "\n"
     ]
    },
    {
     "name": "stderr",
     "output_type": "stream",
     "text": [
      "100%|██████████| 4/4 [00:02<00:00,  1.55it/s]\n"
     ]
    },
    {
     "name": "stdout",
     "output_type": "stream",
     "text": [
      "\n",
      "画像の登録\n",
      "\n"
     ]
    },
    {
     "name": "stderr",
     "output_type": "stream",
     "text": [
      "100%|██████████| 4/4 [00:23<00:00,  5.88s/it]\n"
     ]
    }
   ],
   "source": [
    "from importlib import reload\n",
    "import task\n",
    "reload(task)\n",
    "import task\n",
    "\n",
    "###\n",
    "\n",
    "from task import Task\n",
    "\n",
    "task = Task(API_URL, KEY_IDENTITY, KEY_CREDENTIAL)\n",
    "task.upload(\"tmp/bcd/metadata.csv\", \"tmp/bcd/media.csv\")"
   ]
  }
 ],
 "metadata": {
  "kernelspec": {
   "display_name": "Python 3.9.12 ('venv': venv)",
   "language": "python",
   "name": "python3"
  },
  "language_info": {
   "codemirror_mode": {
    "name": "ipython",
    "version": 3
   },
   "file_extension": ".py",
   "mimetype": "text/x-python",
   "name": "python",
   "nbconvert_exporter": "python",
   "pygments_lexer": "ipython3",
   "version": "3.9.12"
  },
  "orig_nbformat": 4,
  "vscode": {
   "interpreter": {
    "hash": "298425943b76c628d5242528253edf20c1c18f2afa1e1858607f32c8572be1b1"
   }
  }
 },
 "nbformat": 4,
 "nbformat_minor": 2
}
