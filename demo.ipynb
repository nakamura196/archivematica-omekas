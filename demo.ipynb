{
  "cells": [
    {
      "cell_type": "markdown",
      "metadata": {
        "colab_type": "text",
        "id": "view-in-github"
      },
      "source": [
        "<a href=\"https://colab.research.google.com/github/nakamura196/archivematica-omekas/blob/main/demo.ipynb\" target=\"_parent\"><img src=\"https://colab.research.google.com/assets/colab-badge.svg\" alt=\"Open In Colab\"/></a>"
      ]
    },
    {
      "cell_type": "markdown",
      "metadata": {
        "id": "0W5hwvTTOOg9"
      },
      "source": [
        "# Demonstration of archivematica-omekas\n",
        "archivematica-omekasのデモンストレーション"
      ]
    },
    {
      "cell_type": "markdown",
      "metadata": {
        "id": "to9wmwnqNipT"
      },
      "source": [
        "## Install\n",
        "\n",
        "インストール"
      ]
    },
    {
      "cell_type": "code",
      "execution_count": 1,
      "metadata": {
        "colab": {
          "base_uri": "https://localhost:8080/"
        },
        "id": "6g1Cm1NwNY48",
        "outputId": "89558c79-2f21-4a23-b821-a058c8d7a395"
      },
      "outputs": [
        {
          "name": "stdout",
          "output_type": "stream",
          "text": [
            "Looking in indexes: https://pypi.org/simple, https://us-python.pkg.dev/colab-wheels/public/simple/\n",
            "Collecting archivematica_omekas\n",
            "  Downloading archivematica_omekas-0.0.1-py3-none-any.whl (11 kB)\n",
            "Requirement already satisfied: bs4 in /usr/local/lib/python3.7/dist-packages (from archivematica_omekas) (0.0.1)\n",
            "Collecting omeka-s-tools2\n",
            "  Downloading omeka_s_tools2-0.0.4-py3-none-any.whl (15 kB)\n",
            "Requirement already satisfied: pandas in /usr/local/lib/python3.7/dist-packages (from archivematica_omekas) (1.3.5)\n",
            "Requirement already satisfied: tqdm in /usr/local/lib/python3.7/dist-packages (from archivematica_omekas) (4.64.1)\n",
            "Requirement already satisfied: fastcore in /usr/local/lib/python3.7/dist-packages (from archivematica_omekas) (1.5.27)\n",
            "Requirement already satisfied: beautifulsoup4 in /usr/local/lib/python3.7/dist-packages (from bs4->archivematica_omekas) (4.6.3)\n",
            "Requirement already satisfied: pip in /usr/local/lib/python3.7/dist-packages (from fastcore->archivematica_omekas) (21.1.3)\n",
            "Requirement already satisfied: packaging in /usr/local/lib/python3.7/dist-packages (from fastcore->archivematica_omekas) (21.3)\n",
            "Requirement already satisfied: requests in /usr/local/lib/python3.7/dist-packages (from omeka-s-tools2->archivematica_omekas) (2.23.0)\n",
            "Collecting requests-cache\n",
            "  Downloading requests_cache-0.9.7-py3-none-any.whl (48 kB)\n",
            "\u001b[K     |████████████████████████████████| 48 kB 2.7 MB/s \n",
            "\u001b[?25hRequirement already satisfied: pytest in /usr/local/lib/python3.7/dist-packages (from omeka-s-tools2->archivematica_omekas) (3.6.4)\n",
            "Requirement already satisfied: pyparsing!=3.0.5,>=2.0.2 in /usr/local/lib/python3.7/dist-packages (from packaging->fastcore->archivematica_omekas) (3.0.9)\n",
            "Requirement already satisfied: pytz>=2017.3 in /usr/local/lib/python3.7/dist-packages (from pandas->archivematica_omekas) (2022.5)\n",
            "Requirement already satisfied: python-dateutil>=2.7.3 in /usr/local/lib/python3.7/dist-packages (from pandas->archivematica_omekas) (2.8.2)\n",
            "Requirement already satisfied: numpy>=1.17.3 in /usr/local/lib/python3.7/dist-packages (from pandas->archivematica_omekas) (1.21.6)\n",
            "Requirement already satisfied: six>=1.5 in /usr/local/lib/python3.7/dist-packages (from python-dateutil>=2.7.3->pandas->archivematica_omekas) (1.15.0)\n",
            "Requirement already satisfied: pluggy<0.8,>=0.5 in /usr/local/lib/python3.7/dist-packages (from pytest->omeka-s-tools2->archivematica_omekas) (0.7.1)\n",
            "Requirement already satisfied: setuptools in /usr/local/lib/python3.7/dist-packages (from pytest->omeka-s-tools2->archivematica_omekas) (57.4.0)\n",
            "Requirement already satisfied: more-itertools>=4.0.0 in /usr/local/lib/python3.7/dist-packages (from pytest->omeka-s-tools2->archivematica_omekas) (9.0.0)\n",
            "Requirement already satisfied: atomicwrites>=1.0 in /usr/local/lib/python3.7/dist-packages (from pytest->omeka-s-tools2->archivematica_omekas) (1.4.1)\n",
            "Requirement already satisfied: attrs>=17.4.0 in /usr/local/lib/python3.7/dist-packages (from pytest->omeka-s-tools2->archivematica_omekas) (22.1.0)\n",
            "Requirement already satisfied: py>=1.5.0 in /usr/local/lib/python3.7/dist-packages (from pytest->omeka-s-tools2->archivematica_omekas) (1.11.0)\n",
            "Requirement already satisfied: idna<3,>=2.5 in /usr/local/lib/python3.7/dist-packages (from requests->omeka-s-tools2->archivematica_omekas) (2.10)\n",
            "Requirement already satisfied: chardet<4,>=3.0.2 in /usr/local/lib/python3.7/dist-packages (from requests->omeka-s-tools2->archivematica_omekas) (3.0.4)\n",
            "Requirement already satisfied: certifi>=2017.4.17 in /usr/local/lib/python3.7/dist-packages (from requests->omeka-s-tools2->archivematica_omekas) (2022.9.24)\n",
            "Requirement already satisfied: urllib3!=1.25.0,!=1.25.1,<1.26,>=1.21.1 in /usr/local/lib/python3.7/dist-packages (from requests->omeka-s-tools2->archivematica_omekas) (1.24.3)\n",
            "Collecting url-normalize>=1.4\n",
            "  Downloading url_normalize-1.4.3-py2.py3-none-any.whl (6.8 kB)\n",
            "Collecting cattrs>=22.2\n",
            "  Downloading cattrs-22.2.0-py3-none-any.whl (35 kB)\n",
            "Collecting urllib3!=1.25.0,!=1.25.1,<1.26,>=1.21.1\n",
            "  Downloading urllib3-1.25.11-py2.py3-none-any.whl (127 kB)\n",
            "\u001b[K     |████████████████████████████████| 127 kB 54.8 MB/s \n",
            "\u001b[?25hRequirement already satisfied: appdirs>=1.4.4 in /usr/local/lib/python3.7/dist-packages (from requests-cache->omeka-s-tools2->archivematica_omekas) (1.4.4)\n",
            "Collecting exceptiongroup\n",
            "  Downloading exceptiongroup-1.0.1-py3-none-any.whl (12 kB)\n",
            "Requirement already satisfied: typing_extensions in /usr/local/lib/python3.7/dist-packages (from cattrs>=22.2->requests-cache->omeka-s-tools2->archivematica_omekas) (4.1.1)\n",
            "Installing collected packages: urllib3, exceptiongroup, url-normalize, cattrs, requests-cache, omeka-s-tools2, archivematica-omekas\n",
            "  Attempting uninstall: urllib3\n",
            "    Found existing installation: urllib3 1.24.3\n",
            "    Uninstalling urllib3-1.24.3:\n",
            "      Successfully uninstalled urllib3-1.24.3\n",
            "Successfully installed archivematica-omekas-0.0.1 cattrs-22.2.0 exceptiongroup-1.0.1 omeka-s-tools2-0.0.4 requests-cache-0.9.7 url-normalize-1.4.3 urllib3-1.25.11\n"
          ]
        }
      ],
      "source": [
        "!pip install archivematica_omekas"
      ]
    },
    {
      "cell_type": "markdown",
      "metadata": {
        "id": "qm7nOGn8Nlt_"
      },
      "source": [
        "## Data download\n",
        "\n",
        "データのダウンロード"
      ]
    },
    {
      "cell_type": "code",
      "execution_count": 2,
      "metadata": {
        "colab": {
          "base_uri": "https://localhost:8080/"
        },
        "id": "YedLFJZANnbt",
        "outputId": "cd74ff97-40bb-4508-b38e-2a65070a35f9"
      },
      "outputs": [
        {
          "name": "stdout",
          "output_type": "stream",
          "text": [
            "Cloning into 'archivematica-omekas'...\n",
            "remote: Enumerating objects: 127, done.\u001b[K\n",
            "remote: Counting objects: 100% (127/127), done.\u001b[K\n",
            "remote: Compressing objects: 100% (107/107), done.\u001b[K\n",
            "remote: Total 127 (delta 26), reused 107 (delta 11), pack-reused 0\u001b[K\n",
            "Receiving objects: 100% (127/127), 19.16 MiB | 50.04 MiB/s, done.\n",
            "Resolving deltas: 100% (26/26), done.\n"
          ]
        }
      ],
      "source": [
        "!git clone https://github.com/nakamura196/archivematica-omekas"
      ]
    },
    {
      "cell_type": "markdown",
      "metadata": {
        "id": "SOat-DjtNuTi"
      },
      "source": [
        "## Configuration\n",
        "\n",
        "設定"
      ]
    },
    {
      "cell_type": "markdown",
      "metadata": {
        "id": "e7Fvn8GaNve0"
      },
      "source": [
        "### Archivematica"
      ]
    },
    {
      "cell_type": "code",
      "execution_count": 3,
      "metadata": {
        "id": "Gs96OpLwNxDF"
      },
      "outputs": [],
      "source": [
        "dip_zip_file_path = \"/content/archivematica-omekas/data/sample/ex02-1-TIFF-007c28cc-4671-4d5d-be2a-facace4c7b84.zip\"\n",
        "mapping_json_file_path=\"/content/archivematica-omekas/data/sample/mapping.json\""
      ]
    },
    {
      "cell_type": "markdown",
      "metadata": {
        "id": "vnUwyaYGN2GY"
      },
      "source": [
        "### Omeka"
      ]
    },
    {
      "cell_type": "code",
      "execution_count": 4,
      "metadata": {
        "id": "TqRmPauSN3eF"
      },
      "outputs": [],
      "source": [
        "API_URL=\"https://omekas.aws.ldas.jp/sandbox/api\"\n",
        "KEY_IDENTITY=\"2st7sDKL2UAL8OKtfah8ffZS5UjefA7g\"\n",
        "KEY_CREDENTIAL=\"M4s6xyqkzbxgJZieQfsMysVUqzdC6ZPl\""
      ]
    },
    {
      "cell_type": "markdown",
      "metadata": {
        "id": "9bnR9SxeN5ak"
      },
      "source": [
        "## Run\n",
        "\n",
        "実行"
      ]
    },
    {
      "cell_type": "code",
      "execution_count": 5,
      "metadata": {
        "id": "iocJxyNON-mO"
      },
      "outputs": [],
      "source": [
        "from archivematica_omekas.api import *"
      ]
    },
    {
      "cell_type": "code",
      "execution_count": 6,
      "metadata": {
        "id": "DhlUpwqsN64y"
      },
      "outputs": [],
      "source": [
        "output_dir = ArchiveMaticaOmeka.convert(dip_zip_file_path, mapping_json_file_path, task_id=\"test\")"
      ]
    },
    {
      "cell_type": "code",
      "execution_count": 7,
      "metadata": {
        "colab": {
          "base_uri": "https://localhost:8080/"
        },
        "id": "rI-OKoZtOBZ7",
        "outputId": "741b728e-571f-4547-c2ff-197d8f802afb"
      },
      "outputs": [
        {
          "name": "stdout",
          "output_type": "stream",
          "text": [
            "アイテムの登録\n"
          ]
        },
        {
          "name": "stderr",
          "output_type": "stream",
          "text": [
            "100%|██████████| 4/4 [00:05<00:00,  1.50s/it]\n"
          ]
        },
        {
          "name": "stdout",
          "output_type": "stream",
          "text": [
            "\n",
            "IDの取得\n",
            "\n"
          ]
        },
        {
          "name": "stderr",
          "output_type": "stream",
          "text": [
            "100%|██████████| 4/4 [00:00<00:00,  7.22it/s]\n"
          ]
        },
        {
          "name": "stdout",
          "output_type": "stream",
          "text": [
            "\n",
            "メディアの登録\n",
            "\n"
          ]
        },
        {
          "name": "stderr",
          "output_type": "stream",
          "text": [
            "100%|██████████| 4/4 [00:24<00:00,  6.14s/it]\n"
          ]
        }
      ],
      "source": [
        "metadata_csv_path = f\"{output_dir}/metadata.csv\"\n",
        "media_csv_path = f\"{output_dir}/media.csv\"\n",
        "ArchiveMaticaOmeka.upload(metadata_csv_path, media_csv_path, API_URL, KEY_IDENTITY, KEY_CREDENTIAL)"
      ]
    },
    {
      "cell_type": "markdown",
      "metadata": {
        "id": "ja2Nl4kNOJGm"
      },
      "source": [
        "Please confirm that the items were registered from the following URL.\n",
        "\n",
        "以下のURLから、アイテムが登録されていることをご確認ください。"
      ]
    },
    {
      "cell_type": "code",
      "execution_count": 8,
      "metadata": {
        "colab": {
          "base_uri": "https://localhost:8080/",
          "height": 35
        },
        "id": "O905TPP2OJhg",
        "outputId": "5834deb1-7f82-4194-e3a8-d6ddfef3c31b"
      },
      "outputs": [
        {
          "data": {
            "application/vnd.google.colaboratory.intrinsic+json": {
              "type": "string"
            },
            "text/plain": [
              "'https://omekas.aws.ldas.jp/sandbox'"
            ]
          },
          "execution_count": 8,
          "metadata": {},
          "output_type": "execute_result"
        }
      ],
      "source": [
        "url = f\"{API_URL.replace('/api', '')}\"\n",
        "url"
      ]
    }
  ],
  "metadata": {
    "colab": {
      "authorship_tag": "ABX9TyOWmnlFlamCLuJXDDdvbVfM",
      "include_colab_link": true,
      "provenance": []
    },
    "kernelspec": {
      "display_name": "Python 3.11.0 64-bit",
      "language": "python",
      "name": "python3"
    },
    "language_info": {
      "name": "python",
      "version": "3.11.0"
    },
    "vscode": {
      "interpreter": {
        "hash": "5c7b89af1651d0b8571dde13640ecdccf7d5a6204171d6ab33e7c296e100e08a"
      }
    }
  },
  "nbformat": 4,
  "nbformat_minor": 0
}
